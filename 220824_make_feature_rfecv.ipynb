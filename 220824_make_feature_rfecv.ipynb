{
 "cells": [
  {
   "cell_type": "code",
   "execution_count": 27,
   "id": "5922fd60",
   "metadata": {
    "ExecuteTime": {
     "end_time": "2022-08-25T23:40:18.000319Z",
     "start_time": "2022-08-25T23:40:17.969533Z"
    }
   },
   "outputs": [],
   "source": [
    "import pandas as pd\n",
    "import random\n",
    "import os\n",
    "import numpy as np\n",
    "\n",
    "from sklearn.model_selection import train_test_split\n",
    "from sklearn.datasets import make_regression\n",
    "from sklearn.ensemble import GradientBoostingRegressor, RandomForestRegressor, VotingRegressor\n",
    "from sklearn.linear_model import LinearRegression\n",
    "from sklearn.multioutput import MultiOutputRegressor\n",
    "from bayes_opt import BayesianOptimization\n",
    "from sklearn.metrics import log_loss, mean_squared_error\n",
    "\n",
    "import xgboost as xgb\n",
    "from xgboost import XGBRegressor\n",
    "from lightgbm import LGBMRegressor"
   ]
  },
  {
   "cell_type": "code",
   "execution_count": 28,
   "id": "17011099",
   "metadata": {
    "ExecuteTime": {
     "end_time": "2022-08-25T23:40:18.319132Z",
     "start_time": "2022-08-25T23:40:18.305561Z"
    }
   },
   "outputs": [],
   "source": [
    "# Seed 고정\n",
    "def seed_everything(seed):\n",
    "    random.seed(seed)\n",
    "    os.environ['PYTHONHASHSEED'] = str(seed)\n",
    "    np.random.seed(seed)\n",
    "    \n",
    "seed_everything(42) "
   ]
  },
  {
   "cell_type": "code",
   "execution_count": 3,
   "id": "6701a276",
   "metadata": {
    "ExecuteTime": {
     "end_time": "2022-08-25T11:23:55.328079Z",
     "start_time": "2022-08-25T11:23:55.323604Z"
    }
   },
   "outputs": [],
   "source": [
    "def lg_nrmse(gt, preds):\n",
    "    # 각 Y Feature별 NRMSE 총합\n",
    "    # Y_01 ~ Y_08 까지 20% 가중치 부여\n",
    "    all_nrmse = []\n",
    "    for idx in range(0,14): # ignore 'ID'\n",
    "        rmse = mean_squared_error(gt.iloc[:,idx], preds[:,idx], squared=False)\n",
    "        nrmse = rmse/np.mean(np.abs(gt.iloc[:,idx]))\n",
    "        all_nrmse.append(nrmse)\n",
    "    score = 1.2 * np.sum(all_nrmse[:8]) + 1.0 * np.sum(all_nrmse[8:14])\n",
    "    return score"
   ]
  },
  {
   "cell_type": "code",
   "execution_count": 4,
   "id": "e4c1c6e1",
   "metadata": {
    "ExecuteTime": {
     "end_time": "2022-08-25T11:23:58.631067Z",
     "start_time": "2022-08-25T11:23:58.482376Z"
    }
   },
   "outputs": [],
   "source": [
    "train_df = pd.read_csv('./data/train.csv')\n",
    "\n",
    "train_x = train_df.filter(regex='X') # Input : X Featrue\n",
    "train_y = train_df.filter(regex='Y') # Output : Y Feature"
   ]
  },
  {
   "cell_type": "code",
   "execution_count": 4,
   "id": "9ecdaf4e",
   "metadata": {
    "ExecuteTime": {
     "end_time": "2022-08-24T02:54:51.810330Z",
     "start_time": "2022-08-24T02:54:51.795293Z"
    }
   },
   "outputs": [
    {
     "name": "stderr",
     "output_type": "stream",
     "text": [
      "/var/folders/0h/pj0cgxt55v987ktd5y0nyw9w0000gn/T/ipykernel_64148/3034605857.py:3: SettingWithCopyWarning: \n",
      "A value is trying to be set on a copy of a slice from a DataFrame.\n",
      "Try using .loc[row_indexer,col_indexer] = value instead\n",
      "\n",
      "See the caveats in the documentation: https://pandas.pydata.org/pandas-docs/stable/user_guide/indexing.html#returning-a-view-versus-a-copy\n",
      "  train_x['bangyul_1'] = train_x['X_03']/train_x['X_07']\n",
      "/var/folders/0h/pj0cgxt55v987ktd5y0nyw9w0000gn/T/ipykernel_64148/3034605857.py:4: SettingWithCopyWarning: \n",
      "A value is trying to be set on a copy of a slice from a DataFrame.\n",
      "Try using .loc[row_indexer,col_indexer] = value instead\n",
      "\n",
      "See the caveats in the documentation: https://pandas.pydata.org/pandas-docs/stable/user_guide/indexing.html#returning-a-view-versus-a-copy\n",
      "  train_x['bangyul_2'] = train_x['X_10']/train_x['X_08']\n",
      "/var/folders/0h/pj0cgxt55v987ktd5y0nyw9w0000gn/T/ipykernel_64148/3034605857.py:5: SettingWithCopyWarning: \n",
      "A value is trying to be set on a copy of a slice from a DataFrame.\n",
      "Try using .loc[row_indexer,col_indexer] = value instead\n",
      "\n",
      "See the caveats in the documentation: https://pandas.pydata.org/pandas-docs/stable/user_guide/indexing.html#returning-a-view-versus-a-copy\n",
      "  train_x['bangyul_3'] = train_x['X_11']/train_x['X_09']\n"
     ]
    }
   ],
   "source": [
    "# 방열재료 1,2,3의 면적 대비 무게\n",
    "# 방열재료 무게/면적\n",
    "train_x['bangyul_1'] = train_x['X_03']/train_x['X_07']\n",
    "train_x['bangyul_2'] = train_x['X_10']/train_x['X_08']\n",
    "train_x['bangyul_3'] = train_x['X_11']/train_x['X_09']"
   ]
  },
  {
   "cell_type": "code",
   "execution_count": 5,
   "id": "d743a215",
   "metadata": {
    "ExecuteTime": {
     "end_time": "2022-08-24T02:54:52.679814Z",
     "start_time": "2022-08-24T02:54:52.653449Z"
    }
   },
   "outputs": [
    {
     "name": "stderr",
     "output_type": "stream",
     "text": [
      "/var/folders/0h/pj0cgxt55v987ktd5y0nyw9w0000gn/T/ipykernel_64148/60270327.py:3: SettingWithCopyWarning: \n",
      "A value is trying to be set on a copy of a slice from a DataFrame.\n",
      "Try using .loc[row_indexer,col_indexer] = value instead\n",
      "\n",
      "See the caveats in the documentation: https://pandas.pydata.org/pandas-docs/stable/user_guide/indexing.html#returning-a-view-versus-a-copy\n",
      "  train_x['roperdep_1'] = train_x['X_30']/train_x['X_34']\n",
      "/var/folders/0h/pj0cgxt55v987ktd5y0nyw9w0000gn/T/ipykernel_64148/60270327.py:4: SettingWithCopyWarning: \n",
      "A value is trying to be set on a copy of a slice from a DataFrame.\n",
      "Try using .loc[row_indexer,col_indexer] = value instead\n",
      "\n",
      "See the caveats in the documentation: https://pandas.pydata.org/pandas-docs/stable/user_guide/indexing.html#returning-a-view-versus-a-copy\n",
      "  train_x['roperdep_2'] = train_x['X_31']/train_x['X_35']\n",
      "/var/folders/0h/pj0cgxt55v987ktd5y0nyw9w0000gn/T/ipykernel_64148/60270327.py:5: SettingWithCopyWarning: \n",
      "A value is trying to be set on a copy of a slice from a DataFrame.\n",
      "Try using .loc[row_indexer,col_indexer] = value instead\n",
      "\n",
      "See the caveats in the documentation: https://pandas.pydata.org/pandas-docs/stable/user_guide/indexing.html#returning-a-view-versus-a-copy\n",
      "  train_x['roperdep_3'] = train_x['X_32']/train_x['X_36']\n",
      "/var/folders/0h/pj0cgxt55v987ktd5y0nyw9w0000gn/T/ipykernel_64148/60270327.py:6: SettingWithCopyWarning: \n",
      "A value is trying to be set on a copy of a slice from a DataFrame.\n",
      "Try using .loc[row_indexer,col_indexer] = value instead\n",
      "\n",
      "See the caveats in the documentation: https://pandas.pydata.org/pandas-docs/stable/user_guide/indexing.html#returning-a-view-versus-a-copy\n",
      "  train_x['roperdep_4'] = train_x['X_33']/train_x['X_37']\n",
      "/var/folders/0h/pj0cgxt55v987ktd5y0nyw9w0000gn/T/ipykernel_64148/60270327.py:8: SettingWithCopyWarning: \n",
      "A value is trying to be set on a copy of a slice from a DataFrame.\n",
      "Try using .loc[row_indexer,col_indexer] = value instead\n",
      "\n",
      "See the caveats in the documentation: https://pandas.pydata.org/pandas-docs/stable/user_guide/indexing.html#returning-a-view-versus-a-copy\n",
      "  train_x['roperdep_5'] = train_x['X_19']/train_x['X_34']\n",
      "/var/folders/0h/pj0cgxt55v987ktd5y0nyw9w0000gn/T/ipykernel_64148/60270327.py:9: SettingWithCopyWarning: \n",
      "A value is trying to be set on a copy of a slice from a DataFrame.\n",
      "Try using .loc[row_indexer,col_indexer] = value instead\n",
      "\n",
      "See the caveats in the documentation: https://pandas.pydata.org/pandas-docs/stable/user_guide/indexing.html#returning-a-view-versus-a-copy\n",
      "  train_x['roperdep_6'] = train_x['X_20']/train_x['X_35']\n",
      "/var/folders/0h/pj0cgxt55v987ktd5y0nyw9w0000gn/T/ipykernel_64148/60270327.py:10: SettingWithCopyWarning: \n",
      "A value is trying to be set on a copy of a slice from a DataFrame.\n",
      "Try using .loc[row_indexer,col_indexer] = value instead\n",
      "\n",
      "See the caveats in the documentation: https://pandas.pydata.org/pandas-docs/stable/user_guide/indexing.html#returning-a-view-versus-a-copy\n",
      "  train_x['roperdep_7'] = train_x['X_21']/train_x['X_36']\n",
      "/var/folders/0h/pj0cgxt55v987ktd5y0nyw9w0000gn/T/ipykernel_64148/60270327.py:11: SettingWithCopyWarning: \n",
      "A value is trying to be set on a copy of a slice from a DataFrame.\n",
      "Try using .loc[row_indexer,col_indexer] = value instead\n",
      "\n",
      "See the caveats in the documentation: https://pandas.pydata.org/pandas-docs/stable/user_guide/indexing.html#returning-a-view-versus-a-copy\n",
      "  train_x['roperdep_8'] = train_x['X_22']/train_x['X_37']\n",
      "/var/folders/0h/pj0cgxt55v987ktd5y0nyw9w0000gn/T/ipykernel_64148/60270327.py:14: SettingWithCopyWarning: \n",
      "A value is trying to be set on a copy of a slice from a DataFrame.\n",
      "Try using .loc[row_indexer,col_indexer] = value instead\n",
      "\n",
      "See the caveats in the documentation: https://pandas.pydata.org/pandas-docs/stable/user_guide/indexing.html#returning-a-view-versus-a-copy\n",
      "  train_x['m_roperdep_1'] = (train_x['roperdep_1']+train_x['roperdep_5'])/2\n",
      "/var/folders/0h/pj0cgxt55v987ktd5y0nyw9w0000gn/T/ipykernel_64148/60270327.py:15: SettingWithCopyWarning: \n",
      "A value is trying to be set on a copy of a slice from a DataFrame.\n",
      "Try using .loc[row_indexer,col_indexer] = value instead\n",
      "\n",
      "See the caveats in the documentation: https://pandas.pydata.org/pandas-docs/stable/user_guide/indexing.html#returning-a-view-versus-a-copy\n",
      "  train_x['m_roperdep_2'] = (train_x['roperdep_2']+train_x['roperdep_6'])/2\n",
      "/var/folders/0h/pj0cgxt55v987ktd5y0nyw9w0000gn/T/ipykernel_64148/60270327.py:16: SettingWithCopyWarning: \n",
      "A value is trying to be set on a copy of a slice from a DataFrame.\n",
      "Try using .loc[row_indexer,col_indexer] = value instead\n",
      "\n",
      "See the caveats in the documentation: https://pandas.pydata.org/pandas-docs/stable/user_guide/indexing.html#returning-a-view-versus-a-copy\n",
      "  train_x['m_roperdep_3'] = (train_x['roperdep_3']+train_x['roperdep_7'])/2\n"
     ]
    }
   ],
   "source": [
    "# 회전수 당 삽입깊이\n",
    "# 삽입깊이/회전수\n",
    "train_x['roperdep_1'] = train_x['X_30']/train_x['X_34']\n",
    "train_x['roperdep_2'] = train_x['X_31']/train_x['X_35']\n",
    "train_x['roperdep_3'] = train_x['X_32']/train_x['X_36']\n",
    "train_x['roperdep_4'] = train_x['X_33']/train_x['X_37']\n",
    "\n",
    "train_x['roperdep_5'] = train_x['X_19']/train_x['X_34']\n",
    "train_x['roperdep_6'] = train_x['X_20']/train_x['X_35']\n",
    "train_x['roperdep_7'] = train_x['X_21']/train_x['X_36']\n",
    "train_x['roperdep_8'] = train_x['X_22']/train_x['X_37']\n",
    "\n",
    "# 회전수 당 삽입깊이의 평균\n",
    "train_x['m_roperdep_1'] = (train_x['roperdep_1']+train_x['roperdep_5'])/2\n",
    "train_x['m_roperdep_2'] = (train_x['roperdep_2']+train_x['roperdep_6'])/2\n",
    "train_x['m_roperdep_3'] = (train_x['roperdep_3']+train_x['roperdep_7'])/2\n",
    "train_x['m_roperdep_4'] = (train_x['roperdep_4']+train_x['roperdep_8'])/2"
   ]
  },
  {
   "cell_type": "code",
   "execution_count": 15,
   "id": "4c89e701",
   "metadata": {
    "ExecuteTime": {
     "end_time": "2022-08-24T11:15:22.522461Z",
     "start_time": "2022-08-24T03:38:47.688740Z"
    }
   },
   "outputs": [
    {
     "data": {
      "text/html": [
       "<style>#sk-container-id-1 {color: black;background-color: white;}#sk-container-id-1 pre{padding: 0;}#sk-container-id-1 div.sk-toggleable {background-color: white;}#sk-container-id-1 label.sk-toggleable__label {cursor: pointer;display: block;width: 100%;margin-bottom: 0;padding: 0.3em;box-sizing: border-box;text-align: center;}#sk-container-id-1 label.sk-toggleable__label-arrow:before {content: \"▸\";float: left;margin-right: 0.25em;color: #696969;}#sk-container-id-1 label.sk-toggleable__label-arrow:hover:before {color: black;}#sk-container-id-1 div.sk-estimator:hover label.sk-toggleable__label-arrow:before {color: black;}#sk-container-id-1 div.sk-toggleable__content {max-height: 0;max-width: 0;overflow: hidden;text-align: left;background-color: #f0f8ff;}#sk-container-id-1 div.sk-toggleable__content pre {margin: 0.2em;color: black;border-radius: 0.25em;background-color: #f0f8ff;}#sk-container-id-1 input.sk-toggleable__control:checked~div.sk-toggleable__content {max-height: 200px;max-width: 100%;overflow: auto;}#sk-container-id-1 input.sk-toggleable__control:checked~label.sk-toggleable__label-arrow:before {content: \"▾\";}#sk-container-id-1 div.sk-estimator input.sk-toggleable__control:checked~label.sk-toggleable__label {background-color: #d4ebff;}#sk-container-id-1 div.sk-label input.sk-toggleable__control:checked~label.sk-toggleable__label {background-color: #d4ebff;}#sk-container-id-1 input.sk-hidden--visually {border: 0;clip: rect(1px 1px 1px 1px);clip: rect(1px, 1px, 1px, 1px);height: 1px;margin: -1px;overflow: hidden;padding: 0;position: absolute;width: 1px;}#sk-container-id-1 div.sk-estimator {font-family: monospace;background-color: #f0f8ff;border: 1px dotted black;border-radius: 0.25em;box-sizing: border-box;margin-bottom: 0.5em;}#sk-container-id-1 div.sk-estimator:hover {background-color: #d4ebff;}#sk-container-id-1 div.sk-parallel-item::after {content: \"\";width: 100%;border-bottom: 1px solid gray;flex-grow: 1;}#sk-container-id-1 div.sk-label:hover label.sk-toggleable__label {background-color: #d4ebff;}#sk-container-id-1 div.sk-serial::before {content: \"\";position: absolute;border-left: 1px solid gray;box-sizing: border-box;top: 0;bottom: 0;left: 50%;z-index: 0;}#sk-container-id-1 div.sk-serial {display: flex;flex-direction: column;align-items: center;background-color: white;padding-right: 0.2em;padding-left: 0.2em;position: relative;}#sk-container-id-1 div.sk-item {position: relative;z-index: 1;}#sk-container-id-1 div.sk-parallel {display: flex;align-items: stretch;justify-content: center;background-color: white;position: relative;}#sk-container-id-1 div.sk-item::before, #sk-container-id-1 div.sk-parallel-item::before {content: \"\";position: absolute;border-left: 1px solid gray;box-sizing: border-box;top: 0;bottom: 0;left: 50%;z-index: -1;}#sk-container-id-1 div.sk-parallel-item {display: flex;flex-direction: column;z-index: 1;position: relative;background-color: white;}#sk-container-id-1 div.sk-parallel-item:first-child::after {align-self: flex-end;width: 50%;}#sk-container-id-1 div.sk-parallel-item:last-child::after {align-self: flex-start;width: 50%;}#sk-container-id-1 div.sk-parallel-item:only-child::after {width: 0;}#sk-container-id-1 div.sk-dashed-wrapped {border: 1px dashed gray;margin: 0 0.4em 0.5em 0.4em;box-sizing: border-box;padding-bottom: 0.4em;background-color: white;}#sk-container-id-1 div.sk-label label {font-family: monospace;font-weight: bold;display: inline-block;line-height: 1.2em;}#sk-container-id-1 div.sk-label-container {text-align: center;}#sk-container-id-1 div.sk-container {/* jupyter's `normalize.less` sets `[hidden] { display: none; }` but bootstrap.min.css set `[hidden] { display: none !important; }` so we also need the `!important` here to be able to override the default hidden behavior on the sphinx rendered scikit-learn.org. See: https://github.com/scikit-learn/scikit-learn/issues/21755 */display: inline-block !important;position: relative;}#sk-container-id-1 div.sk-text-repr-fallback {display: none;}</style><div id=\"sk-container-id-1\" class=\"sk-top-container\"><div class=\"sk-text-repr-fallback\"><pre>RFECV(estimator=XGBRegressor(base_score=None, booster=None, callbacks=None,\n",
       "                             colsample_bylevel=None, colsample_bynode=None,\n",
       "                             colsample_bytree=None, early_stopping_rounds=None,\n",
       "                             enable_categorical=False, eval_metric=None,\n",
       "                             gamma=None, gpu_id=None, grow_policy=None,\n",
       "                             importance_type=None, interaction_constraints=None,\n",
       "                             learning_rate=None, max_bin=None,\n",
       "                             max_cat_to_onehot=None, max_delta_step=None,\n",
       "                             max_depth=None, max_leaves=None,\n",
       "                             min_child_weight=None, missing=nan,\n",
       "                             monotone_constraints=None, n_estimators=100,\n",
       "                             n_jobs=None, num_parallel_tree=None,\n",
       "                             predictor=None, random_state=None, reg_alpha=None,\n",
       "                             reg_lambda=None, ...),\n",
       "      n_jobs=-1, scoring=&#x27;neg_mean_squared_error&#x27;)</pre><b>In a Jupyter environment, please rerun this cell to show the HTML representation or trust the notebook. <br />On GitHub, the HTML representation is unable to render, please try loading this page with nbviewer.org.</b></div><div class=\"sk-container\" hidden><div class=\"sk-item sk-dashed-wrapped\"><div class=\"sk-label-container\"><div class=\"sk-label sk-toggleable\"><input class=\"sk-toggleable__control sk-hidden--visually\" id=\"sk-estimator-id-1\" type=\"checkbox\" ><label for=\"sk-estimator-id-1\" class=\"sk-toggleable__label sk-toggleable__label-arrow\">RFECV</label><div class=\"sk-toggleable__content\"><pre>RFECV(estimator=XGBRegressor(base_score=None, booster=None, callbacks=None,\n",
       "                             colsample_bylevel=None, colsample_bynode=None,\n",
       "                             colsample_bytree=None, early_stopping_rounds=None,\n",
       "                             enable_categorical=False, eval_metric=None,\n",
       "                             gamma=None, gpu_id=None, grow_policy=None,\n",
       "                             importance_type=None, interaction_constraints=None,\n",
       "                             learning_rate=None, max_bin=None,\n",
       "                             max_cat_to_onehot=None, max_delta_step=None,\n",
       "                             max_depth=None, max_leaves=None,\n",
       "                             min_child_weight=None, missing=nan,\n",
       "                             monotone_constraints=None, n_estimators=100,\n",
       "                             n_jobs=None, num_parallel_tree=None,\n",
       "                             predictor=None, random_state=None, reg_alpha=None,\n",
       "                             reg_lambda=None, ...),\n",
       "      n_jobs=-1, scoring=&#x27;neg_mean_squared_error&#x27;)</pre></div></div></div><div class=\"sk-parallel\"><div class=\"sk-parallel-item\"><div class=\"sk-item\"><div class=\"sk-label-container\"><div class=\"sk-label sk-toggleable\"><input class=\"sk-toggleable__control sk-hidden--visually\" id=\"sk-estimator-id-2\" type=\"checkbox\" ><label for=\"sk-estimator-id-2\" class=\"sk-toggleable__label sk-toggleable__label-arrow\">estimator: XGBRegressor</label><div class=\"sk-toggleable__content\"><pre>XGBRegressor(base_score=None, booster=None, callbacks=None,\n",
       "             colsample_bylevel=None, colsample_bynode=None,\n",
       "             colsample_bytree=None, early_stopping_rounds=None,\n",
       "             enable_categorical=False, eval_metric=None, gamma=None,\n",
       "             gpu_id=None, grow_policy=None, importance_type=None,\n",
       "             interaction_constraints=None, learning_rate=None, max_bin=None,\n",
       "             max_cat_to_onehot=None, max_delta_step=None, max_depth=None,\n",
       "             max_leaves=None, min_child_weight=None, missing=nan,\n",
       "             monotone_constraints=None, n_estimators=100, n_jobs=None,\n",
       "             num_parallel_tree=None, predictor=None, random_state=None,\n",
       "             reg_alpha=None, reg_lambda=None, ...)</pre></div></div></div><div class=\"sk-serial\"><div class=\"sk-item\"><div class=\"sk-estimator sk-toggleable\"><input class=\"sk-toggleable__control sk-hidden--visually\" id=\"sk-estimator-id-3\" type=\"checkbox\" ><label for=\"sk-estimator-id-3\" class=\"sk-toggleable__label sk-toggleable__label-arrow\">XGBRegressor</label><div class=\"sk-toggleable__content\"><pre>XGBRegressor(base_score=None, booster=None, callbacks=None,\n",
       "             colsample_bylevel=None, colsample_bynode=None,\n",
       "             colsample_bytree=None, early_stopping_rounds=None,\n",
       "             enable_categorical=False, eval_metric=None, gamma=None,\n",
       "             gpu_id=None, grow_policy=None, importance_type=None,\n",
       "             interaction_constraints=None, learning_rate=None, max_bin=None,\n",
       "             max_cat_to_onehot=None, max_delta_step=None, max_depth=None,\n",
       "             max_leaves=None, min_child_weight=None, missing=nan,\n",
       "             monotone_constraints=None, n_estimators=100, n_jobs=None,\n",
       "             num_parallel_tree=None, predictor=None, random_state=None,\n",
       "             reg_alpha=None, reg_lambda=None, ...)</pre></div></div></div></div></div></div></div></div></div></div>"
      ],
      "text/plain": [
       "RFECV(estimator=XGBRegressor(base_score=None, booster=None, callbacks=None,\n",
       "                             colsample_bylevel=None, colsample_bynode=None,\n",
       "                             colsample_bytree=None, early_stopping_rounds=None,\n",
       "                             enable_categorical=False, eval_metric=None,\n",
       "                             gamma=None, gpu_id=None, grow_policy=None,\n",
       "                             importance_type=None, interaction_constraints=None,\n",
       "                             learning_rate=None, max_bin=None,\n",
       "                             max_cat_to_onehot=None, max_delta_step=None,\n",
       "                             max_depth=None, max_leaves=None,\n",
       "                             min_child_weight=None, missing=nan,\n",
       "                             monotone_constraints=None, n_estimators=100,\n",
       "                             n_jobs=None, num_parallel_tree=None,\n",
       "                             predictor=None, random_state=None, reg_alpha=None,\n",
       "                             reg_lambda=None, ...),\n",
       "      n_jobs=-1, scoring='neg_mean_squared_error')"
      ]
     },
     "execution_count": 15,
     "metadata": {},
     "output_type": "execute_result"
    }
   ],
   "source": [
    "# 라이브러리를 임포트합니다.\n",
    "import lightgbm\n",
    "from sklearn.datasets import make_regression\n",
    "from sklearn.feature_selection import RFECV\n",
    "from sklearn import datasets, linear_model\n",
    "from xgboost import XGBRegressor\n",
    "\n",
    "# 선형 회귀 모델을 만듭니다.\n",
    "xgb_reg = XGBRegressor()\n",
    "\n",
    "# 재귀적으로 특성을 제거합니다.\n",
    "rfecv = RFECV(estimator=xgb_reg, step=1, scoring=\"neg_mean_squared_error\", n_jobs=-1)\n",
    "rfecv.fit(train_x, train_y)"
   ]
  },
  {
   "cell_type": "code",
   "execution_count": 16,
   "id": "715da0bc",
   "metadata": {
    "ExecuteTime": {
     "end_time": "2022-08-24T11:15:22.544834Z",
     "start_time": "2022-08-24T11:15:22.524366Z"
    }
   },
   "outputs": [
    {
     "data": {
      "text/plain": [
       "array([[ 70.544     ,  67.47      , 101.892     , ...,   0.1886646 ,\n",
       "          0.17532971,   0.18745189],\n",
       "       [ 69.524     ,  65.17      , 101.944     , ...,   0.18570319,\n",
       "          0.16912335,   0.18793503],\n",
       "       [ 72.583     ,  64.07      , 103.153     , ...,   0.18376068,\n",
       "          0.17365967,   0.18461538],\n",
       "       ...,\n",
       "       [ 68.504     ,  64.67      , 103.144     , ...,   0.18104777,\n",
       "          0.17103236,   0.18345043],\n",
       "       [ 66.465     ,  63.67      , 102.025     , ...,   0.17713178,\n",
       "          0.17399691,   0.18350039],\n",
       "       [ 66.465     ,  65.67      , 102.004     , ...,   0.1774942 ,\n",
       "          0.16962906,   0.19191919]])"
      ]
     },
     "execution_count": 16,
     "metadata": {},
     "output_type": "execute_result"
    }
   ],
   "source": [
    "rfecv.transform(train_x)"
   ]
  },
  {
   "cell_type": "code",
   "execution_count": 17,
   "id": "de21fbc1",
   "metadata": {
    "ExecuteTime": {
     "end_time": "2022-08-24T11:15:22.549346Z",
     "start_time": "2022-08-24T11:15:22.545861Z"
    }
   },
   "outputs": [
    {
     "name": "stdout",
     "output_type": "stream",
     "text": [
      "Optimal number of features : 65\n",
      "Best features : Index(['X_01', 'X_03', 'X_05', 'X_06', 'X_07', 'X_08', 'X_09', 'X_10', 'X_11',\n",
      "       'X_12', 'X_13', 'X_14', 'X_15', 'X_16', 'X_17', 'X_18', 'X_19', 'X_20',\n",
      "       'X_21', 'X_22', 'X_24', 'X_25', 'X_26', 'X_27', 'X_28', 'X_29', 'X_30',\n",
      "       'X_31', 'X_32', 'X_33', 'X_34', 'X_35', 'X_36', 'X_37', 'X_38', 'X_39',\n",
      "       'X_40', 'X_41', 'X_42', 'X_43', 'X_44', 'X_45', 'X_46', 'X_49', 'X_50',\n",
      "       'X_51', 'X_52', 'X_53', 'X_54', 'X_55', 'X_56', 'bangyul_1',\n",
      "       'bangyul_3', 'roperdep_1', 'roperdep_2', 'roperdep_3', 'roperdep_4',\n",
      "       'roperdep_5', 'roperdep_6', 'roperdep_7', 'roperdep_8', 'm_roperdep_1',\n",
      "       'm_roperdep_2', 'm_roperdep_3', 'm_roperdep_4'],\n",
      "      dtype='object')\n",
      "Ranking of features : Index(['X_02', 'X_04', 'X_02', 'X_07', 'X_02', 'X_02', 'X_02', 'X_02', 'X_02',\n",
      "       'X_02',\n",
      "       ...\n",
      "       'X_16', 'X_17', 'X_18', 'X_06', 'X_03', 'roperdep_1', 'roperdep_2',\n",
      "       'roperdep_3', 'roperdep_4', 'roperdep_5'],\n",
      "      dtype='object', length=127)\n"
     ]
    }
   ],
   "source": [
    "# 최선의 특성 개수\n",
    "print('Optimal number of features :', rfecv.n_features_)\n",
    "\n",
    "# 선택된 특성이 표시된 불리언 마스크\n",
    "print('Best features :', train_x.columns[rfecv.support_])\n",
    "\n",
    "# 특성의 순위 : 최고에서 최악까지\n",
    "print('Ranking of features :', train_x.columns[rfecv.ranking_])"
   ]
  },
  {
   "cell_type": "markdown",
   "id": "082dcfe5",
   "metadata": {},
   "source": [
    "---------------"
   ]
  }
 ],
 "metadata": {
  "kernelspec": {
   "display_name": "Python 3 (ipykernel)",
   "language": "python",
   "name": "python3"
  },
  "language_info": {
   "codemirror_mode": {
    "name": "ipython",
    "version": 3
   },
   "file_extension": ".py",
   "mimetype": "text/x-python",
   "name": "python",
   "nbconvert_exporter": "python",
   "pygments_lexer": "ipython3",
   "version": "3.8.13"
  },
  "toc": {
   "base_numbering": 1,
   "nav_menu": {},
   "number_sections": true,
   "sideBar": true,
   "skip_h1_title": false,
   "title_cell": "Table of Contents",
   "title_sidebar": "Contents",
   "toc_cell": false,
   "toc_position": {},
   "toc_section_display": true,
   "toc_window_display": false
  }
 },
 "nbformat": 4,
 "nbformat_minor": 5
}
